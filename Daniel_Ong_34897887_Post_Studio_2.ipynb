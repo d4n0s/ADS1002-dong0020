{
 "cells": [
  {
   "cell_type": "markdown",
   "id": "acc85a55",
   "metadata": {},
   "source": [
    "## W3&W4 post studio exercises (errors, model fitting)\n",
    "\n",
    "Enter your solution in the cell(s) below each exercise. Add couple of inline comments explaining your code. Don't forget to add comments in markdown cell after each exercise. Missing comments (in markdown cells and/or inline) and late submissions will incur penalties.\n",
    "\n",
    "Once done, drag&drop your python file to your ADS1002-name github account.\n",
    "\n",
    "Copy url of this file on github to appropriate folder on Moodle by 09.30am prior your next studio. \n",
    "\n",
    "Solutions will be released later in the semester.\n",
    "\n",
    "Max 10 marks - 2.5 marks per each exercise."
   ]
  },
  {
   "cell_type": "markdown",
   "id": "6239fd43",
   "metadata": {},
   "source": [
    "***\n",
    "We will use \n",
    "\n",
    "* [who-health-data.csv](https://gitlab.erc.monash.edu.au/bads/data-challenges-resources/-/tree/main/Machine-Learning/Supervised-Methods/who-health-data.csv)\n",
    "\n",
    "* [wisconsin-cancer-data.csv](https://gitlab.erc.monash.edu.au/bads/data-challenges-resources/-/tree/main/Machine-Learning/Supervised-Methods/kaggle-wisconsin-cancer.csv)\n",
    "\n",
    "throughout the exercises. Download the datasets into the same directory as your post-studio notebook."
   ]
  },
  {
   "cell_type": "code",
   "execution_count": 2,
   "id": "c1d36b83",
   "metadata": {},
   "outputs": [],
   "source": [
    "who_data_2015 = (\n",
    "    pd.read_csv(\"who-health-data.csv\") # Read in the csv data.\n",
    "    .rename(columns=lambda c: c.strip())      # Clean up column names.\n",
    "    .query(\"Year == 2015\")                    # Restrict the dataset to records from 2015.\n",
    "    # Removes two columns which contain a lot of missing data...\n",
    "    .drop(columns=[\"Alcohol\", \"Total expenditure\"])\n",
    "    # ... then drop any rows with missing values.\n",
    "    .dropna()\n",
    ")\n",
    "\n",
    "wisconsin_cancer_biopsies = (\n",
    "    pd.read_csv(\"kaggle-wisconsin-cancer.csv\")\n",
    "    # This tidies up the naming of results (M -> malignant, B -> benign)\n",
    "    .assign(diagnosis=lambda df: df['diagnosis']  \n",
    "        .map({\"M\": \"malignant\", \"B\": \"benign\"})\n",
    "        .astype('category')\n",
    "    )\n",
    ")"
   ]
  },
  {
   "cell_type": "markdown",
   "id": "74e823bd",
   "metadata": {},
   "source": [
    "### Exercise 1\n",
    "\n",
    "Given the dataframe `ex1_who_with_predictions` below, compute the Mean Absolute Error for the predicted values of life expectancy. You can repeat the process previously shown, or find a function in `sklearn.metrics` to compute this for you."
   ]
  },
  {
   "cell_type": "code",
   "execution_count": 11,
   "id": "b0ce618f",
   "metadata": {
    "scrolled": true
   },
   "outputs": [
    {
     "data": {
      "text/html": [
       "<div>\n",
       "<style scoped>\n",
       "    .dataframe tbody tr th:only-of-type {\n",
       "        vertical-align: middle;\n",
       "    }\n",
       "\n",
       "    .dataframe tbody tr th {\n",
       "        vertical-align: top;\n",
       "    }\n",
       "\n",
       "    .dataframe thead th {\n",
       "        text-align: right;\n",
       "    }\n",
       "</style>\n",
       "<table border=\"1\" class=\"dataframe\">\n",
       "  <thead>\n",
       "    <tr style=\"text-align: right;\">\n",
       "      <th></th>\n",
       "      <th>Schooling</th>\n",
       "      <th>Life expectancy</th>\n",
       "      <th>Predicted</th>\n",
       "    </tr>\n",
       "  </thead>\n",
       "  <tbody>\n",
       "    <tr>\n",
       "      <th>0</th>\n",
       "      <td>10.1</td>\n",
       "      <td>65.0</td>\n",
       "      <td>66.23</td>\n",
       "    </tr>\n",
       "    <tr>\n",
       "      <th>16</th>\n",
       "      <td>14.2</td>\n",
       "      <td>77.8</td>\n",
       "      <td>75.66</td>\n",
       "    </tr>\n",
       "    <tr>\n",
       "      <th>32</th>\n",
       "      <td>14.4</td>\n",
       "      <td>75.6</td>\n",
       "      <td>76.12</td>\n",
       "    </tr>\n",
       "    <tr>\n",
       "      <th>48</th>\n",
       "      <td>11.4</td>\n",
       "      <td>52.4</td>\n",
       "      <td>69.22</td>\n",
       "    </tr>\n",
       "    <tr>\n",
       "      <th>80</th>\n",
       "      <td>17.3</td>\n",
       "      <td>76.3</td>\n",
       "      <td>82.79</td>\n",
       "    </tr>\n",
       "  </tbody>\n",
       "</table>\n",
       "</div>"
      ],
      "text/plain": [
       "    Schooling  Life expectancy  Predicted\n",
       "0        10.1             65.0      66.23\n",
       "16       14.2             77.8      75.66\n",
       "32       14.4             75.6      76.12\n",
       "48       11.4             52.4      69.22\n",
       "80       17.3             76.3      82.79"
      ]
     },
     "execution_count": 11,
     "metadata": {},
     "output_type": "execute_result"
    }
   ],
   "source": [
    "ex1_who_with_predictions = (\n",
    "    who_data_2015[[\"Schooling\", \"Life expectancy\"]]\n",
    "    .assign(Predicted=lambda df: df[\"Schooling\"] * 2.3 + 43)\n",
    "    .dropna()\n",
    ")\n",
    "ex1_who_with_predictions.head()"
   ]
  },
  {
   "cell_type": "markdown",
   "id": "7caecf88",
   "metadata": {},
   "source": [
    "# Solutions"
   ]
  },
  {
   "cell_type": "code",
   "execution_count": 12,
   "id": "58ddf198",
   "metadata": {},
   "outputs": [
    {
     "name": "stdout",
     "output_type": "stream",
     "text": [
      "Mean Absolute Error: 3.79\n"
     ]
    }
   ],
   "source": [
    "import pandas as pd\n",
    "from sklearn.metrics import mean_absolute_error\n",
    "\n",
    "# Load and prepare the datasets\n",
    "who_data_2015 = (\n",
    "    pd.read_csv(\"who-health-data.csv\")\n",
    "    .rename(columns=lambda c: c.strip())\n",
    "    .query(\"Year == 2015\")\n",
    "    .drop(columns=[\"Alcohol\", \"Total expenditure\"])\n",
    "    .dropna()\n",
    ")\n",
    "\n",
    "ex1_who_with_predictions = (\n",
    "    who_data_2015[[\"Schooling\", \"Life expectancy\"]]\n",
    "    .assign(Predicted=lambda df: df[\"Schooling\"] * 2.3 + 43)\n",
    "    .dropna()\n",
    ")\n",
    "\n",
    "# Calculate the Mean Absolute Error\n",
    "mae = mean_absolute_error(\n",
    "    ex1_who_with_predictions[\"Life expectancy\"],\n",
    "    ex1_who_with_predictions[\"Predicted\"]\n",
    ")\n",
    "\n",
    "print(f\"Mean Absolute Error: {mae:.2f}\")\n"
   ]
  },
  {
   "cell_type": "markdown",
   "id": "d380e650",
   "metadata": {},
   "source": [
    "### Exercise 2\n",
    "\n",
    "Given the classification predictions and actual results in the dataframe `ex2_biopsies_with_predictions` below, compute accuracy, precision and recall. Also find the number of false negatives."
   ]
  },
  {
   "cell_type": "code",
   "execution_count": 5,
   "id": "5f0d649c",
   "metadata": {},
   "outputs": [
    {
     "data": {
      "text/html": [
       "<div>\n",
       "<style scoped>\n",
       "    .dataframe tbody tr th:only-of-type {\n",
       "        vertical-align: middle;\n",
       "    }\n",
       "\n",
       "    .dataframe tbody tr th {\n",
       "        vertical-align: top;\n",
       "    }\n",
       "\n",
       "    .dataframe thead th {\n",
       "        text-align: right;\n",
       "    }\n",
       "</style>\n",
       "<table border=\"1\" class=\"dataframe\">\n",
       "  <thead>\n",
       "    <tr style=\"text-align: right;\">\n",
       "      <th></th>\n",
       "      <th>radius_mean</th>\n",
       "      <th>texture_mean</th>\n",
       "      <th>diagnosis</th>\n",
       "      <th>prediction</th>\n",
       "    </tr>\n",
       "  </thead>\n",
       "  <tbody>\n",
       "    <tr>\n",
       "      <th>0</th>\n",
       "      <td>17.99</td>\n",
       "      <td>10.38</td>\n",
       "      <td>malignant</td>\n",
       "      <td>benign</td>\n",
       "    </tr>\n",
       "    <tr>\n",
       "      <th>1</th>\n",
       "      <td>20.57</td>\n",
       "      <td>17.77</td>\n",
       "      <td>malignant</td>\n",
       "      <td>benign</td>\n",
       "    </tr>\n",
       "    <tr>\n",
       "      <th>2</th>\n",
       "      <td>19.69</td>\n",
       "      <td>21.25</td>\n",
       "      <td>malignant</td>\n",
       "      <td>malignant</td>\n",
       "    </tr>\n",
       "    <tr>\n",
       "      <th>3</th>\n",
       "      <td>11.42</td>\n",
       "      <td>20.38</td>\n",
       "      <td>malignant</td>\n",
       "      <td>malignant</td>\n",
       "    </tr>\n",
       "    <tr>\n",
       "      <th>4</th>\n",
       "      <td>20.29</td>\n",
       "      <td>14.34</td>\n",
       "      <td>malignant</td>\n",
       "      <td>benign</td>\n",
       "    </tr>\n",
       "  </tbody>\n",
       "</table>\n",
       "</div>"
      ],
      "text/plain": [
       "   radius_mean  texture_mean  diagnosis prediction\n",
       "0        17.99         10.38  malignant     benign\n",
       "1        20.57         17.77  malignant     benign\n",
       "2        19.69         21.25  malignant  malignant\n",
       "3        11.42         20.38  malignant  malignant\n",
       "4        20.29         14.34  malignant     benign"
      ]
     },
     "execution_count": 5,
     "metadata": {},
     "output_type": "execute_result"
    }
   ],
   "source": [
    "ex2_biopsies_with_predictions = (\n",
    "    wisconsin_cancer_biopsies\n",
    "    .assign(prediction=lambda df: df['texture_mean'].lt(20)\n",
    "        .map({True: \"benign\", False: \"malignant\"})\n",
    "    )\n",
    "    [['radius_mean', 'texture_mean', 'diagnosis', 'prediction']]\n",
    ")\n",
    "ex2_biopsies_with_predictions.head()"
   ]
  },
  {
   "cell_type": "markdown",
   "id": "480d4a89",
   "metadata": {},
   "source": [
    "# Solutions"
   ]
  },
  {
   "cell_type": "code",
   "execution_count": 6,
   "id": "083c1a77",
   "metadata": {},
   "outputs": [
    {
     "name": "stdout",
     "output_type": "stream",
     "text": [
      "Accuracy: 0.73\n",
      "Precision: 0.63\n",
      "Recall: 0.67\n",
      "Number of False Negatives: 70\n"
     ]
    }
   ],
   "source": [
    "import pandas as pd\n",
    "from sklearn.metrics import accuracy_score, precision_score, recall_score, confusion_matrix\n",
    "\n",
    "# Load and prepare the datasets\n",
    "wisconsin_cancer_biopsies = (\n",
    "    pd.read_csv(\"kaggle-wisconsin-cancer.csv\")\n",
    "    .assign(diagnosis=lambda df: df['diagnosis']\n",
    "        .map({\"M\": \"malignant\", \"B\": \"benign\"})\n",
    "        .astype('category')\n",
    "    )\n",
    ")\n",
    "\n",
    "ex2_biopsies_with_predictions = (\n",
    "    wisconsin_cancer_biopsies\n",
    "    .assign(prediction=lambda df: df['texture_mean'].lt(20)\n",
    "        .map({True: \"benign\", False: \"malignant\"})\n",
    "    )\n",
    "    [['radius_mean', 'texture_mean', 'diagnosis', 'prediction']]\n",
    ")\n",
    "\n",
    "# Calculate accuracy, precision, and recall\n",
    "accuracy = accuracy_score(ex2_biopsies_with_predictions['diagnosis'], ex2_biopsies_with_predictions['prediction'])\n",
    "precision = precision_score(ex2_biopsies_with_predictions['diagnosis'], ex2_biopsies_with_predictions['prediction'], pos_label=\"malignant\")\n",
    "recall = recall_score(ex2_biopsies_with_predictions['diagnosis'], ex2_biopsies_with_predictions['prediction'], pos_label=\"malignant\")\n",
    "\n",
    "# Compute confusion matrix to find the number of false negatives\n",
    "conf_matrix = confusion_matrix(ex2_biopsies_with_predictions['diagnosis'], ex2_biopsies_with_predictions['prediction'], labels=[\"malignant\", \"benign\"])\n",
    "false_negatives = conf_matrix[0, 1]  # False negatives are in position (0, 1) of the confusion matrix\n",
    "\n",
    "print(f\"Accuracy: {accuracy:.2f}\")\n",
    "print(f\"Precision: {precision:.2f}\")\n",
    "print(f\"Recall: {recall:.2f}\")\n",
    "print(f\"Number of False Negatives: {false_negatives}\")\n"
   ]
  },
  {
   "cell_type": "markdown",
   "id": "2442f1dc",
   "metadata": {},
   "source": [
    "### Exercise 3\n",
    "\n",
    "Consider three different predictors for the cancer biopsy screening dataset:\n",
    "\n",
    "* Predictor A has an accuracy of 0.95, and recall of 0.99\n",
    "* Predictor B has an accuracy of 0.99, and recall of 0.95\n",
    "* Predictor C has an accuracy of 0.5, and a recall of 1.0\n",
    "\n",
    "The test required to collect data from a new patient (on which the predictor will give a predicted diagnosis) is minimally invasive. If the predictor predicts a positive (malignant) diagnosis, the patient will be referred for further screening which can be expensive.\n",
    "\n",
    "Considering the context, which predictive model (A, B, or C) would likely be preferred for this task? Write your answer in a markdown cell below, and give a brief explanation of your reasoning."
   ]
  },
  {
   "cell_type": "markdown",
   "id": "b1dbc5a5",
   "metadata": {},
   "source": [
    "# Solutions"
   ]
  },
  {
   "cell_type": "markdown",
   "id": "915653ef",
   "metadata": {},
   "source": [
    "Predictor A is the best choice as it balances high accuracy with an exceptional recall rate, ensuring most malignant cases are detected while minimizing false negatives."
   ]
  },
  {
   "cell_type": "markdown",
   "id": "54311d40",
   "metadata": {},
   "source": [
    "### Exercise 4\n",
    "\n",
    "Choose one different input/feature variable (other than Schooling) and fit a linear regression model to predict Life Expectancy using sklearn. Can you achieve a better error rate than what we found in pre-studio notebook? (RMSE and MAE for Schooling were 4.71 and 3.69, respectively.) Suggest a method to narrow down your choices of variables to use in order to arrive at a good model. \n",
    "\n",
    "Hint 1: Correlation.\n",
    "\n",
    "Hint 2: You can use the functions written in the pre-studio notebook, e.g. prediction_root_mean_squared_error(gradient, intercept), to calculate the model error once you choose your model parameters (features)."
   ]
  },
  {
   "cell_type": "markdown",
   "id": "8ee9497e",
   "metadata": {},
   "source": [
    "# Solutions"
   ]
  },
  {
   "cell_type": "code",
   "execution_count": 16,
   "id": "627dc850",
   "metadata": {},
   "outputs": [
    {
     "name": "stdout",
     "output_type": "stream",
     "text": [
      "Correlation of features with Life expectancy:\n",
      "\n",
      "Income composition of resources    0.898059\n",
      "Schooling                          0.806074\n",
      "BMI                                0.544987\n",
      "Polio                              0.493438\n",
      "GDP                                0.487018\n",
      "Diphtheria                         0.466223\n",
      "Hepatitis B                        0.372109\n",
      "percentage expenditure             0.064494\n",
      "Population                        -0.027594\n",
      "Measles                           -0.049305\n",
      "infant deaths                     -0.209304\n",
      "under-five deaths                 -0.241013\n",
      "thinness 5-9 years                -0.454897\n",
      "thinness  1-19 years              -0.459153\n",
      "HIV/AIDS                          -0.620511\n",
      "Adult Mortality                   -0.731215\n",
      "Year                                    NaN\n",
      "Name: Life expectancy, dtype: float64\n",
      "\n",
      "Chosen Feature: Income composition of resources\n",
      "RMSE: 3.50\n",
      "MAE: 2.74\n",
      "\n",
      "Actual vs Predicted Life Expectancy:\n",
      "    Life expectancy  Predicted Life Expectancy\n",
      "0              65.0                  61.442220\n",
      "16             77.8                  74.883540\n",
      "32             75.6                  73.981120\n",
      "48             52.4                  63.912003\n",
      "80             76.3                  77.923274\n"
     ]
    },
    {
     "data": {
      "image/png": "[encoded data removed]",
      "text/plain": [
       "<Figure size 1000x600 with 1 Axes>"
      ]
     },
     "metadata": {},
     "output_type": "display_data"
    }
   ],
   "source": [
    "import pandas as pd\n",
    "import numpy as np\n",
    "from sklearn.linear_model import LinearRegression\n",
    "from sklearn.metrics import mean_absolute_error, mean_squared_error\n",
    "from math import sqrt\n",
    "import matplotlib.pyplot as plt\n",
    "import seaborn as sns\n",
    "\n",
    "# Load the dataset and clean it as before\n",
    "who_data_2015 = (\n",
    "    pd.read_csv(\"who-health-data.csv\")\n",
    "    .rename(columns=lambda c: c.strip())\n",
    "    .query(\"Year == 2015\")\n",
    "    .drop(columns=[\"Alcohol\", \"Total expenditure\"])\n",
    "    .dropna()\n",
    ")\n",
    "\n",
    "# Step 1: Calculate correlation with Life expectancy\n",
    "numeric_data = who_data_2015.select_dtypes(include=[np.number])\n",
    "correlation = numeric_data.corr()['Life expectancy'].drop('Life expectancy').sort_values(ascending=False)\n",
    "\n",
    "print(\"Correlation of features with Life expectancy:\\n\")\n",
    "print(correlation)\n",
    "\n",
    "# Step 2: Choose a feature with high correlation (other than Schooling)\n",
    "chosen_feature = correlation.index[0]  # Example: choosing the top correlated feature\n",
    "\n",
    "# Step 3: Fit a linear regression model\n",
    "X = numeric_data[[chosen_feature]]\n",
    "y = numeric_data['Life expectancy']\n",
    "\n",
    "model = LinearRegression()\n",
    "model.fit(X, y)\n",
    "\n",
    "# Predictions\n",
    "predictions = model.predict(X)\n",
    "\n",
    "# Step 4: Calculate RMSE and MAE\n",
    "rmse = sqrt(mean_squared_error(y, predictions))\n",
    "mae = mean_absolute_error(y, predictions)\n",
    "\n",
    "print(f\"\\nChosen Feature: {chosen_feature}\")\n",
    "print(f\"RMSE: {rmse:.2f}\")\n",
    "print(f\"MAE: {mae:.2f}\")\n",
    "\n",
    "# Display the actual vs predicted Life expectancy\n",
    "predicted_df = numeric_data.copy()\n",
    "predicted_df['Predicted Life Expectancy'] = predictions\n",
    "\n",
    "print(\"\\nActual vs Predicted Life Expectancy:\")\n",
    "print(predicted_df[['Life expectancy', 'Predicted Life Expectancy']].head())\n",
    "\n",
    "# Step 5: Plot the linear regression graph\n",
    "plt.figure(figsize=(10, 6))\n",
    "sns.scatterplot(x=X[chosen_feature], y=y, color=\"blue\", label=\"Actual Data\")\n",
    "sns.lineplot(x=X[chosen_feature], y=predictions, color=\"red\", label=\"Regression Line\")\n",
    "plt.title(f'Linear Regression: {chosen_feature} vs Life Expectancy')\n",
    "plt.xlabel(chosen_feature)\n",
    "plt.ylabel('Life Expectancy')\n",
    "plt.legend()\n",
    "plt.show()\n",
    "\n",
    "# Method Suggestion: Consider using correlation, but also techniques like\n",
    "# Recursive Feature Elimination (RFE) or cross-validation with different\n",
    "# combinations of features to arrive at the best model.\n"
   ]
  },
  {
   "cell_type": "code",
   "execution_count": null,
   "id": "12627564",
   "metadata": {},
   "outputs": [],
   "source": []
  },
  {
   "cell_type": "markdown",
   "id": "d047d49b",
   "metadata": {},
   "source": [
    "## Extra exercises\n",
    "\n",
    "The following exercises with (*) will not be assessed. Use these to check your understanding of topics covered in the past 2 weeks."
   ]
  },
  {
   "cell_type": "markdown",
   "id": "97c7caa6",
   "metadata": {},
   "source": [
    "### Exercise 5*\n",
    "\n",
    "The function `model_correct_predictions` below returns the number of correct predictions made by a predictive model for the cancer biopsy dataset, for a given parameter value. This parameter value simply controls the threshold value for radius above which a sample is predicted as malignant.\n",
    "\n",
    "Try different values of the parameter in this model within the range [0, 30]. Record and plot the resulting accuracy values against the parameter value (similar to the regression cost function example above).\n",
    "\n",
    "What value of the parameter provides the best error rate? Explain how can you be confident you have found the best result here."
   ]
  },
  {
   "cell_type": "code",
   "execution_count": 4,
   "id": "8cd0a26e",
   "metadata": {},
   "outputs": [
    {
     "data": {
      "text/plain": [
       "369"
      ]
     },
     "execution_count": 4,
     "metadata": {},
     "output_type": "execute_result"
    }
   ],
   "source": [
    "def model_correct_predictions(radius_split_parameter):\n",
    "    \"\"\" Return the number of correct predictions made by the model\n",
    "    for the given parameter value. \"\"\"\n",
    "    data = wisconsin_cancer_biopsies.assign(\n",
    "        predicted=lambda df: df['radius_mean'].lt(radius_split_parameter)\n",
    "            .map({True: \"benign\", False: \"malignant\"})\n",
    "    )\n",
    "    return (data['diagnosis'] == data['predicted']).sum()\n",
    "\n",
    "model_correct_predictions(12)"
   ]
  },
  {
   "cell_type": "markdown",
   "id": "5418d4af",
   "metadata": {},
   "source": [
    "### Exercise 6*\n",
    "\n",
    "In examples in pre-studio notebook (W4) we have used root mean squared error (the standard cost function for linear regression) to fit the model parameters. Try re-running the `scipy.optimise` method using mean absolute error. Are the resulting model parameters the same as above? Give some brief reasoning why there might be a difference here."
   ]
  },
  {
   "cell_type": "code",
   "execution_count": 5,
   "id": "62dd55f3",
   "metadata": {},
   "outputs": [],
   "source": [
    "# Hint: you only need to make one small change in the prediction_error function to do this."
   ]
  },
  {
   "cell_type": "code",
   "execution_count": 6,
   "id": "1fc09b7a",
   "metadata": {},
   "outputs": [],
   "source": [
    "def prediction_root_mean_squared_error(gradient, intercept):\n",
    "    \"\"\" Return the prediction error associated with the value of the parameters.\n",
    "    This time around, let's use sklearn.metrics. \"\"\"\n",
    "    predictions = who_data_2015[\"Schooling\"] * gradient + intercept\n",
    "    actual = who_data_2015[\"Life expectancy\"]\n",
    "    # Note that `squared=False` gives us RMSE. Then we're in the same units as MAE.\n",
    "    return mean_squared_error(y_true=actual, y_pred=predictions, squared=False)\n",
    "\n",
    "def prediction_mean_absolute_error(gradient, intercept):\n",
    "    \"\"\" Return the prediction error associated with the value of the parameters.\n",
    "    This time around, let's use sklearn.metrics. \"\"\"\n",
    "    predictions = who_data_2015[\"Schooling\"] * gradient + intercept\n",
    "    actual = who_data_2015[\"Life expectancy\"]\n",
    "    return mean_absolute_error(y_true=actual, y_pred=predictions)"
   ]
  },
  {
   "cell_type": "markdown",
   "id": "29bd1b2a",
   "metadata": {},
   "source": [
    "### Exercise 7*\n",
    "\n",
    "We can see above that different methods for determining model parameters arrive at the same result, but what happens if we change the dataset slightly. Experiment by taking several (at least 10) different samples of the data, fitting a linear model for each one, and plotting a histogram of the different gradient and intercept coefficients you find. Is there a significant amount of variation in the parameter values?"
   ]
  },
  {
   "cell_type": "code",
   "execution_count": 7,
   "id": "7e345346",
   "metadata": {},
   "outputs": [],
   "source": [
    "sample_data = who_data_2015.sample(30)  # selects a small sample of 30 random rows from the data."
   ]
  }
 ],
 "metadata": {
  "kernelspec": {
   "display_name": "Python 3 (ipykernel)",
   "language": "python",
   "name": "python3"
  },
  "language_info": {
   "codemirror_mode": {
    "name": "ipython",
    "version": 3
   },
   "file_extension": ".py",
   "mimetype": "text/x-python",
   "name": "python",
   "nbconvert_exporter": "python",
   "pygments_lexer": "ipython3",
   "version": "3.11.5"
  }
 },
 "nbformat": 4,
 "nbformat_minor": 5
}
